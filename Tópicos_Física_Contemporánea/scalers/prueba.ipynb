{
 "cells": [
  {
   "cell_type": "code",
   "execution_count": null,
   "metadata": {},
   "outputs": [],
   "source": [
    "\n",
    "# Importamos bibliotecas importantes\n",
    "import numpy as np"
   ]
  },
  {
   "cell_type": "code",
   "execution_count": 8,
   "metadata": {},
   "outputs": [
    {
     "name": "stdout",
     "output_type": "stream",
     "text": [
      "152.73506473629425\n"
     ]
    }
   ],
   "source": [
    "#Definición de parámetros\n",
    "a = 18\n",
    "b = 12\n",
    "\n",
    "\n",
    "h_2 = a**2 - b**2/4 #Acá definimos el valor de h al cuadrado\n",
    "h = np.sqrt(h_2) #Sacamos raíz cuadrada\n",
    "\n",
    "Area = a*h/2 #Calculamos el área según la fórmula del área del triángulo\n",
    "print(Area)"
   ]
  },
  {
   "cell_type": "code",
   "execution_count": 7,
   "metadata": {},
   "outputs": [
    {
     "name": "stdout",
     "output_type": "stream",
     "text": [
      "Adios\n"
     ]
    }
   ],
   "source": [
    "\n",
    "\n",
    "if a <= b:\n",
    "    print('Hola')\n",
    "elif a>= b:\n",
    "    print('Adios')"
   ]
  }
 ],
 "metadata": {
  "kernelspec": {
   "display_name": "Python 3",
   "language": "python",
   "name": "python3"
  },
  "language_info": {
   "codemirror_mode": {
    "name": "ipython",
    "version": 3
   },
   "file_extension": ".py",
   "mimetype": "text/x-python",
   "name": "python",
   "nbconvert_exporter": "python",
   "pygments_lexer": "ipython3",
   "version": "3.10.5"
  },
  "orig_nbformat": 4
 },
 "nbformat": 4,
 "nbformat_minor": 2
}
